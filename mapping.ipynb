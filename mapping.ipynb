{
 "cells": [
  {
   "cell_type": "code",
   "execution_count": 1,
   "metadata": {},
   "outputs": [],
   "source": [
    "import numpy as np\n",
    "import math\n",
    "import matplotlib.pyplot as plt\n",
    "import matplotlib.animation as anim\n",
    "from IPython.display import HTML"
   ]
  },
  {
   "cell_type": "code",
   "execution_count": 2,
   "metadata": {},
   "outputs": [],
   "source": [
    "# Calculates the inverse measurement model for a laser scanner.\n",
    "# It identifies three regions. The first where no information is available occurs\n",
    "# outside of the scanning arc. The second where objects are likely to exist, at the\n",
    "# end of the range measurement within the arc. The third are where objects are unlikely\n",
    "# to exist, within the arc but with less distance than the range measurement.\n",
    "def inverse_scanner(num_rows, num_cols, x, y, theta, meas_phi, meas_r, rmax, alpha, beta):\n",
    "    m = np.zeros((M, N))\n",
    "    for i in range(num_rows):\n",
    "        for j in range(num_cols):\n",
    "            # Find range and bearing relative to the input state (x, y, theta).\n",
    "            r = math.sqrt((i - x)**2 + (j - y)**2)\n",
    "            phi = (math.atan2(j - y, i - x) - theta + math.pi) % (2 * math.pi) - math.pi\n",
    "            \n",
    "            # Find the range measurement associated with the relative bearing.\n",
    "            k = np.argmin(np.abs(np.subtract(phi, meas_phi)))\n",
    "            \n",
    "            # If the range is greater than the maximum sensor range, or behind our range\n",
    "            # measurement, or is outside of the field of view of the sensor, then no\n",
    "            # new information is available.\n",
    "            if (r > min(rmax, meas_r[k] + alpha / 2.0)) or (abs(phi - meas_phi[k]) > beta / 2.0):\n",
    "                m[i, j] = 0.5\n",
    "            \n",
    "            # If the range measurement lied within this cell, it is likely to be an object.\n",
    "            elif (meas_r[k] < rmax) and (abs(r - meas_r[k]) < alpha / 2.0):\n",
    "                m[i, j] = 0.7\n",
    "            \n",
    "            # If the cell is in front of the range measurement, it is likely to be empty.\n",
    "            elif r < meas_r[k]:\n",
    "                m[i, j] = 0.3\n",
    "                \n",
    "    return m\n",
    "                            "
   ]
  },
  {
   "cell_type": "code",
   "execution_count": null,
   "metadata": {},
   "outputs": [],
   "source": []
  }
 ],
 "metadata": {
  "kernelspec": {
   "display_name": "Python 3",
   "language": "python",
   "name": "python3"
  },
  "language_info": {
   "codemirror_mode": {
    "name": "ipython",
    "version": 3
   },
   "file_extension": ".py",
   "mimetype": "text/x-python",
   "name": "python",
   "nbconvert_exporter": "python",
   "pygments_lexer": "ipython3",
   "version": "3.8.10"
  },
  "orig_nbformat": 4
 },
 "nbformat": 4,
 "nbformat_minor": 2
}
