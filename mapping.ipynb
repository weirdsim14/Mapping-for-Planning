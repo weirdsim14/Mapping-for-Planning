{
 "cells": [
  {
   "cell_type": "code",
   "execution_count": 1,
   "metadata": {},
   "outputs": [],
   "source": [
    "import numpy as np\n",
    "import math\n",
    "import matplotlib.pyplot as plt\n",
    "import matplotlib.animation as anim\n",
    "from IPython.display import HTML"
   ]
  },
  {
   "attachments": {},
   "cell_type": "markdown",
   "metadata": {},
   "source": [
    "This Python function, inverse_scanner, is implementing an inverse range sensor model for a robotic system (like an autonomous vehicle) that's equipped with a laser rangefinder or a LiDAR. It's used to transform raw sensor measurements into a form suitable for updating a probabilistic occupancy grid.\n",
    "\n",
    "Here's a line-by-line explanation of the code:\n",
    "\n",
    "The function definition. It takes several arguments:\n",
    "\n",
    "num_rows, num_cols are the dimensions of the map or grid.\n",
    "x, y, theta are the position and orientation of the robot.\n",
    "meas_phi, meas_r are arrays representing the angular positions and ranges of the laser measurements.\n",
    "rmax is the maximum range of the sensor.\n",
    "alpha and beta are parameters of the sensor model related to the width of the laser beam and the field of view of the sensor, respectively.\n",
    "It initializes an empty occupancy grid m of size MxN with zeros. M and N should presumably be num_rows and num_cols.\n",
    "\n",
    "The outer two for loops iterate over each cell in the grid.\n",
    "\n",
    "For each cell, it calculates r, the distance from the robot to the cell, and phi, the bearing (angle) from the robot to the cell, relative to the robot's heading.\n",
    "\n",
    "It identifies the laser beam k whose angular position is closest to phi.\n",
    "\n",
    "If the cell is outside the laser's maximum range, or behind the range measurement of the identified laser beam, or outside the beam's field of view, then the occupancy of the cell is unknown. It's marked with a probability of 0.5.\n",
    "\n",
    "If the laser beam k hit an object (its range measurement is less than the maximum range), and the cell is located at a distance close to the range measurement, then the cell is likely to be occupied by an object. It's marked with a higher probability of 0.7.\n",
    "\n",
    "If the cell is in front of the range measurement of the laser beam, then it's likely to be free space, as the beam didn't hit anything at this distance. It's marked with a lower probability of 0.3.\n",
    "\n",
    "After it checks all the cells, the function returns the updated occupancy grid.\n",
    "\n",
    "The purpose of this function is to interpret the raw laser measurements and translate them into a probabilistic understanding of which areas in the robot's vicinity are occupied and which are likely to be free. This occupancy information can then be used to plan safe and efficient paths for the robot."
   ]
  },
  {
   "cell_type": "code",
   "execution_count": 3,
   "metadata": {},
   "outputs": [],
   "source": [
    "# Calculates the inverse measurement model for a laser scanner.\n",
    "# It identifies three regions. The first where no information is available occurs\n",
    "# outside of the scanning arc. The second where objects are likely to exist, at the\n",
    "# end of the range measurement within the arc. The third are where objects are unlikely\n",
    "# to exist, within the arc but with less distance than the range measurement.\n",
    "def inverse_scanner(num_rows, num_cols, x, y, theta, meas_phi, meas_r, rmax, alpha, beta):\n",
    "    m = np.zeros((M, N))\n",
    "    for i in range(num_rows):\n",
    "        for j in range(num_cols):\n",
    "            # Find range and bearing relative to the input state (x, y, theta).\n",
    "            r = math.sqrt((i - x)**2 + (j - y)**2)\n",
    "            phi = (math.atan2(j - y, i - x) - theta + math.pi) % (2 * math.pi) - math.pi\n",
    "            \n",
    "            # Find the range measurement associated with the relative bearing.\n",
    "            k = np.argmin(np.abs(np.subtract(phi, meas_phi)))\n",
    "            \n",
    "            # If the range is greater than the maximum sensor range, or behind our range\n",
    "            # measurement, or is outside of the field of view of the sensor, then no\n",
    "            # new information is available.\n",
    "            if (r > min(rmax, meas_r[k] + alpha / 2.0)) or (abs(phi - meas_phi[k]) > beta / 2.0):\n",
    "                m[i, j] = 0.5\n",
    "            \n",
    "            # If the range measurement lied within this cell, it is likely to be an object.\n",
    "            elif (meas_r[k] < rmax) and (abs(r - meas_r[k]) < alpha / 2.0):\n",
    "                m[i, j] = 0.7\n",
    "            \n",
    "            # If the cell is in front of the range measurement, it is likely to be empty.\n",
    "            elif r < meas_r[k]:\n",
    "                m[i, j] = 0.3\n",
    "                \n",
    "    return m\n",
    "                            "
   ]
  },
  {
   "cell_type": "code",
   "execution_count": 4,
   "metadata": {},
   "outputs": [],
   "source": [
    "# Generates range measurements for a laser scanner based on a map, vehicle position,\n",
    "# and sensor parameters.\n",
    "# Uses the ray tracing algorithm.\n",
    "def get_ranges(true_map, X, meas_phi, rmax):\n",
    "    (M, N) = np.shape(true_map)\n",
    "    x = X[0]\n",
    "    y = X[1]\n",
    "    theta = X[2]\n",
    "    meas_r = rmax * np.ones(meas_phi.shape)\n",
    "    \n",
    "    # Iterate for each measurement bearing.\n",
    "    for i in range(len(meas_phi)):\n",
    "        # Iterate over each unit step up to and including rmax.\n",
    "        for r in range(1, rmax+1):\n",
    "            # Determine the coordinates of the cell.\n",
    "            xi = int(round(x + r * math.cos(theta + meas_phi[i])))\n",
    "            yi = int(round(y + r * math.sin(theta + meas_phi[i])))\n",
    "            \n",
    "            # If not in the map, set measurement there and stop going further.\n",
    "            if (xi <= 0 or xi >= M-1 or yi <= 0 or yi >= N-1):\n",
    "                meas_r[i] = r\n",
    "                break\n",
    "            # If in the map, but hitting an obstacle, set the measurement range\n",
    "            # and stop ray tracing.\n",
    "            elif true_map[int(round(xi)), int(round(yi))] == 1:\n",
    "                meas_r[i] = r\n",
    "                break\n",
    "                \n",
    "    return meas_r"
   ]
  },
  {
   "cell_type": "code",
   "execution_count": null,
   "metadata": {},
   "outputs": [],
   "source": []
  }
 ],
 "metadata": {
  "kernelspec": {
   "display_name": "Python 3",
   "language": "python",
   "name": "python3"
  },
  "language_info": {
   "codemirror_mode": {
    "name": "ipython",
    "version": 3
   },
   "file_extension": ".py",
   "mimetype": "text/x-python",
   "name": "python",
   "nbconvert_exporter": "python",
   "pygments_lexer": "ipython3",
   "version": "3.8.10"
  },
  "orig_nbformat": 4
 },
 "nbformat": 4,
 "nbformat_minor": 2
}
